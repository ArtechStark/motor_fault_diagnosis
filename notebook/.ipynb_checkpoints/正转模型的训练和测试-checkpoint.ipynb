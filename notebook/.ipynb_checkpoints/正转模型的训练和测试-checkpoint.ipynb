{
 "cells": [
  {
   "cell_type": "code",
   "execution_count": 1,
   "metadata": {},
   "outputs": [],
   "source": [
    "import numpy as np\n",
    "import torch \n",
    "import torchvision\n",
    "import torch.nn as nn\n",
    "import matplotlib.pyplot as plt\n",
    "%matplotlib inline"
   ]
  },
  {
   "cell_type": "code",
   "execution_count": 2,
   "metadata": {},
   "outputs": [
    {
     "name": "stdout",
     "output_type": "stream",
     "text": [
      "train_0_F.shape:  (700000, 15)\n",
      "train_1_F.shape:  (42000, 15)\n"
     ]
    }
   ],
   "source": [
    "train_0_F = np.loadtxt(open(\"../../data/motor_fault/train_0_F.csv\",\"rb\"), delimiter=\",\", skiprows=0)\n",
    "train_1_F = np.loadtxt(open(\"../../data/motor_fault/train_1_F.csv\",\"rb\"), delimiter=\",\", skiprows=0)\n",
    "print(\"train_0_F.shape: \", train_0_F.shape)\n",
    "print(\"train_1_F.shape: \", train_1_F.shape)"
   ]
  },
  {
   "cell_type": "code",
   "execution_count": 3,
   "metadata": {},
   "outputs": [],
   "source": [
    "# Device configuration\n",
    "device = torch.device('cuda' if torch.cuda.is_available() else 'cpu')\n",
    "#device = torch.device('cpu')"
   ]
  },
  {
   "cell_type": "code",
   "execution_count": 4,
   "metadata": {},
   "outputs": [],
   "source": [
    "# Hyper-parameters\n",
    "input_size = 14\n",
    "hidden_size1 = 100\n",
    "hidden_size2 = 50\n",
    "num_classes = 2\n",
    "num_epochs = 5\n",
    "batch_size = 100\n",
    "learning_rate = 1e-3\n",
    "valid_size = 0.2"
   ]
  },
  {
   "cell_type": "code",
   "execution_count": 5,
   "metadata": {},
   "outputs": [],
   "source": [
    "# Dataset\n",
    "train_F = np.concatenate((train_0_F, train_1_F), axis=0)\n",
    "x = torch.tensor(train_F[:,:-1], dtype=torch.float32)\n",
    "y = torch.tensor(train_F[:,-1], dtype=torch.long)\n",
    "dataset = torch.utils.data.TensorDataset(x, y)\n",
    "\n",
    "num_train = len(dataset)\n",
    "indices = list(range(num_train))\n",
    "split = int(np.floor(valid_size * num_train))\n",
    "np.random.shuffle(indices)\n",
    "train_idx, test_idx = indices[:split], indices[split:]\n",
    "trainset = torch.utils.data.Subset(dataset=dataset, indices=train_idx)\n",
    "testset = torch.utils.data.Subset(dataset=dataset, indices=test_idx)\n",
    "\n",
    "trainloader = torch.utils.data.DataLoader(trainset,\n",
    "                                     batch_size = batch_size,\n",
    "                                     shuffle = True,\n",
    "                                     num_workers = 2)\n",
    "testloader = torch.utils.data.DataLoader(testset,\n",
    "                                     batch_size = batch_size,\n",
    "                                     shuffle = False,\n",
    "                                     num_workers = 2)\n"
   ]
  },
  {
   "cell_type": "code",
   "execution_count": 6,
   "metadata": {},
   "outputs": [],
   "source": [
    "# Fully connected neural network with one hidden layer\n",
    "class NeuralNet(nn.Module):\n",
    "    def __init__(self, input_size, hidden_size1, hidden_size2, num_classes):\n",
    "        super(NeuralNet,self).__init__()\n",
    "        self.fc1 = nn.Linear(input_size, hidden_size1)\n",
    "        self.relu = nn.ReLU()\n",
    "        self.fc2 = nn.Linear(hidden_size1, hidden_size2)\n",
    "        self.relu = nn.ReLU()\n",
    "        self.fc3 = nn.Linear(hidden_size2,num_classes)\n",
    "        \n",
    "    def forward(self, x):\n",
    "        out = self.fc1(x)\n",
    "        out = self.relu(out)\n",
    "        out = self.fc2(out)\n",
    "        out = self.relu(out)\n",
    "        out = self.fc3(out)\n",
    "        return out"
   ]
  },
  {
   "cell_type": "code",
   "execution_count": 7,
   "metadata": {},
   "outputs": [],
   "source": [
    "model = NeuralNet(input_size, hidden_size1, hidden_size2, num_classes).to(device)\n",
    "weight=torch.tensor([30,500]).to(device)\n",
    "criterion = nn.CrossEntropyLoss()\n",
    "optimizer = torch.optim.SGD(model.parameters(), lr=learning_rate, momentum=0.9, nesterov=True)"
   ]
  },
  {
   "cell_type": "code",
   "execution_count": 8,
   "metadata": {},
   "outputs": [],
   "source": [
    "def test():\n",
    "    # test on all test data\n",
    "    correct = 0.0\n",
    "    total = 0.0\n",
    "    model.eval()\n",
    "    with torch.no_grad():\n",
    "        for x, y in testloader:\n",
    "            x = x.to(device)\n",
    "            y = y.to(device)\n",
    "            outputs = model(x)\n",
    "            predicted = torch.max(outputs.data, 1)[1]\n",
    "            total += y.size(0)\n",
    "            correct += (predicted == y).sum()\n",
    "\n",
    "    model.train()\n",
    "    print('Test_acc: {:.2f}%'.format(100 * correct / total))"
   ]
  },
  {
   "cell_type": "markdown",
   "metadata": {},
   "source": [
    "1-3/(50+3) = 0.943"
   ]
  },
  {
   "cell_type": "code",
   "execution_count": 9,
   "metadata": {},
   "outputs": [
    {
     "name": "stdout",
     "output_type": "stream",
     "text": [
      "Test_acc: 26.00%\n"
     ]
    }
   ],
   "source": [
    "test()"
   ]
  },
  {
   "cell_type": "code",
   "execution_count": 10,
   "metadata": {
    "scrolled": true
   },
   "outputs": [
    {
     "name": "stdout",
     "output_type": "stream",
     "text": [
      "Epoch: [1/5], Step: [100/1484], Loss: 0.2330\n",
      "Epoch: [1/5], Step: [200/1484], Loss: 0.2106\n",
      "Epoch: [1/5], Step: [300/1484], Loss: 0.1950\n",
      "Epoch: [1/5], Step: [400/1484], Loss: 0.1978\n",
      "Epoch: [1/5], Step: [500/1484], Loss: 0.1731\n",
      "Epoch: [1/5], Step: [600/1484], Loss: 0.1547\n",
      "Epoch: [1/5], Step: [700/1484], Loss: 0.1592\n",
      "Epoch: [1/5], Step: [800/1484], Loss: 0.1473\n",
      "Epoch: [1/5], Step: [900/1484], Loss: 0.1410\n",
      "Epoch: [1/5], Step: [1000/1484], Loss: 0.1292\n",
      "Epoch: [1/5], Step: [1100/1484], Loss: 0.1282\n",
      "Epoch: [1/5], Step: [1200/1484], Loss: 0.1240\n",
      "Epoch: [1/5], Step: [1300/1484], Loss: 0.1313\n",
      "Epoch: [1/5], Step: [1400/1484], Loss: 0.1232\n",
      "Test_acc: 96.00%\n",
      "Epoch: [2/5], Step: [100/1484], Loss: 0.1186\n",
      "Epoch: [2/5], Step: [200/1484], Loss: 0.1118\n",
      "Epoch: [2/5], Step: [300/1484], Loss: 0.1183\n",
      "Epoch: [2/5], Step: [400/1484], Loss: 0.1131\n",
      "Epoch: [2/5], Step: [500/1484], Loss: 0.1099\n",
      "Epoch: [2/5], Step: [600/1484], Loss: 0.1091\n",
      "Epoch: [2/5], Step: [700/1484], Loss: 0.1036\n",
      "Epoch: [2/5], Step: [800/1484], Loss: 0.1081\n",
      "Epoch: [2/5], Step: [900/1484], Loss: 0.1181\n",
      "Epoch: [2/5], Step: [1000/1484], Loss: 0.1169\n",
      "Epoch: [2/5], Step: [1100/1484], Loss: 0.1123\n",
      "Epoch: [2/5], Step: [1200/1484], Loss: 0.1113\n",
      "Epoch: [2/5], Step: [1300/1484], Loss: 0.1123\n",
      "Epoch: [2/5], Step: [1400/1484], Loss: 0.1070\n",
      "Test_acc: 96.00%\n",
      "Epoch: [3/5], Step: [100/1484], Loss: 0.1065\n",
      "Epoch: [3/5], Step: [200/1484], Loss: 0.1013\n",
      "Epoch: [3/5], Step: [300/1484], Loss: 0.0963\n",
      "Epoch: [3/5], Step: [400/1484], Loss: 0.0984\n",
      "Epoch: [3/5], Step: [500/1484], Loss: 0.1086\n",
      "Epoch: [3/5], Step: [600/1484], Loss: 0.1037\n",
      "Epoch: [3/5], Step: [700/1484], Loss: 0.1053\n",
      "Epoch: [3/5], Step: [800/1484], Loss: 0.0995\n",
      "Epoch: [3/5], Step: [900/1484], Loss: 0.0963\n",
      "Epoch: [3/5], Step: [1000/1484], Loss: 0.1104\n",
      "Epoch: [3/5], Step: [1100/1484], Loss: 0.0981\n",
      "Epoch: [3/5], Step: [1200/1484], Loss: 0.1009\n",
      "Epoch: [3/5], Step: [1300/1484], Loss: 0.1139\n",
      "Epoch: [3/5], Step: [1400/1484], Loss: 0.1037\n",
      "Test_acc: 96.00%\n",
      "Epoch: [4/5], Step: [100/1484], Loss: 0.0957\n",
      "Epoch: [4/5], Step: [200/1484], Loss: 0.1011\n",
      "Epoch: [4/5], Step: [300/1484], Loss: 0.0988\n",
      "Epoch: [4/5], Step: [400/1484], Loss: 0.0964\n",
      "Epoch: [4/5], Step: [500/1484], Loss: 0.1067\n",
      "Epoch: [4/5], Step: [600/1484], Loss: 0.1008\n",
      "Epoch: [4/5], Step: [700/1484], Loss: 0.1005\n",
      "Epoch: [4/5], Step: [800/1484], Loss: 0.0948\n",
      "Epoch: [4/5], Step: [900/1484], Loss: 0.1032\n",
      "Epoch: [4/5], Step: [1000/1484], Loss: 0.0964\n",
      "Epoch: [4/5], Step: [1100/1484], Loss: 0.0960\n",
      "Epoch: [4/5], Step: [1200/1484], Loss: 0.0945\n",
      "Epoch: [4/5], Step: [1300/1484], Loss: 0.0989\n",
      "Epoch: [4/5], Step: [1400/1484], Loss: 0.0979\n",
      "Test_acc: 96.00%\n",
      "Epoch: [5/5], Step: [100/1484], Loss: 0.0966\n",
      "Epoch: [5/5], Step: [200/1484], Loss: 0.0853\n",
      "Epoch: [5/5], Step: [300/1484], Loss: 0.1013\n",
      "Epoch: [5/5], Step: [400/1484], Loss: 0.0961\n",
      "Epoch: [5/5], Step: [500/1484], Loss: 0.0978\n",
      "Epoch: [5/5], Step: [600/1484], Loss: 0.0954\n",
      "Epoch: [5/5], Step: [700/1484], Loss: 0.1006\n",
      "Epoch: [5/5], Step: [800/1484], Loss: 0.0964\n",
      "Epoch: [5/5], Step: [900/1484], Loss: 0.0950\n",
      "Epoch: [5/5], Step: [1000/1484], Loss: 0.0946\n",
      "Epoch: [5/5], Step: [1100/1484], Loss: 0.1038\n",
      "Epoch: [5/5], Step: [1200/1484], Loss: 0.0893\n",
      "Epoch: [5/5], Step: [1300/1484], Loss: 0.1010\n",
      "Epoch: [5/5], Step: [1400/1484], Loss: 0.0989\n",
      "Test_acc: 97.00%\n"
     ]
    }
   ],
   "source": [
    "# Train the model \n",
    "\n",
    "total_step = len(trainloader)\n",
    "for epoch in range(num_epochs):\n",
    "    running_loss = 0.0\n",
    "    for i, (x, y) in enumerate(trainloader):\n",
    "        # Move tensors to the configured device\n",
    "        x = x.to(device)\n",
    "        y = y.to(device)\n",
    "        \n",
    "        #print(\"batch_x: \", type(x), x.size())\n",
    "        #print(\"batch_y: \", type(y), y.size())\n",
    "        #print(x)\n",
    "        #print(y)\n",
    "        \n",
    "        # Forward pass\n",
    "        outputs = model(x)\n",
    "        #print(outputs)\n",
    "        loss = criterion(outputs,y)\n",
    "        \n",
    "        \n",
    "        # Backward and optimize\n",
    "        optimizer.zero_grad()\n",
    "        loss.backward()\n",
    "        optimizer.step()\n",
    "        \n",
    "        running_loss += loss.item() \n",
    "        if (i+1) % 100 == 0:\n",
    "            print('Epoch: [{}/{}], Step: [{}/{}], Loss: {:.4f}'\n",
    "                  .format(epoch+1, num_epochs, i+1, total_step, running_loss/100))\n",
    "            running_loss = 0.0\n",
    "    test()"
   ]
  }
 ],
 "metadata": {
  "kernelspec": {
   "display_name": "Python 3",
   "language": "python",
   "name": "python3"
  },
  "language_info": {
   "codemirror_mode": {
    "name": "ipython",
    "version": 3
   },
   "file_extension": ".py",
   "mimetype": "text/x-python",
   "name": "python",
   "nbconvert_exporter": "python",
   "pygments_lexer": "ipython3",
   "version": "3.6.5"
  },
  "toc": {
   "base_numbering": 1,
   "nav_menu": {},
   "number_sections": true,
   "sideBar": true,
   "skip_h1_title": false,
   "title_cell": "Table of Contents",
   "title_sidebar": "Contents",
   "toc_cell": false,
   "toc_position": {},
   "toc_section_display": true,
   "toc_window_display": false
  },
  "varInspector": {
   "cols": {
    "lenName": 16,
    "lenType": 16,
    "lenVar": 40
   },
   "kernels_config": {
    "python": {
     "delete_cmd_postfix": "",
     "delete_cmd_prefix": "del ",
     "library": "var_list.py",
     "varRefreshCmd": "print(var_dic_list())"
    },
    "r": {
     "delete_cmd_postfix": ") ",
     "delete_cmd_prefix": "rm(",
     "library": "var_list.r",
     "varRefreshCmd": "cat(var_dic_list()) "
    }
   },
   "types_to_exclude": [
    "module",
    "function",
    "builtin_function_or_method",
    "instance",
    "_Feature"
   ],
   "window_display": false
  }
 },
 "nbformat": 4,
 "nbformat_minor": 2
}
